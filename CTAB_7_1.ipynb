{
  "nbformat": 4,
  "nbformat_minor": 0,
  "metadata": {
    "colab": {
      "provenance": [],
      "authorship_tag": "ABX9TyOkYF19zkq6Xh5DELkJGm+H",
      "include_colab_link": true
    },
    "kernelspec": {
      "name": "python3",
      "display_name": "Python 3"
    },
    "language_info": {
      "name": "python"
    }
  },
  "cells": [
    {
      "cell_type": "markdown",
      "metadata": {
        "id": "view-in-github",
        "colab_type": "text"
      },
      "source": [
        "<a href=\"https://colab.research.google.com/github/jeongeunseoo/23python3rd/blob/main/CTAB_7_1.ipynb\" target=\"_parent\"><img src=\"https://colab.research.google.com/assets/colab-badge.svg\" alt=\"Open In Colab\"/></a>"
      ]
    },
    {
      "cell_type": "markdown",
      "source": [
        "1. 일한 시간과 시급을 계산하여 출력하는 코드\n",
        "- 일한 시간(hours_worked)\n",
        "- 일한 날짜(day_worked)\n",
        "- 시급(pay_rate)\n",
        "- 월급(monthly_pay)"
      ],
      "metadata": {
        "id": "4WcJDM7_nurX"
      }
    },
    {
      "cell_type": "code",
      "source": [
        "hours_worked = int(input(\"일한 시간을 입력하시오.: \"))                                                  # 사용자로부터 일한 시간을 입력받습니다.\n",
        "pay_rate = int(input(\"시급을 입력하시오.(23년 시급 9620): \"))                                           # 사용자로부터 시급을 입력받습니다.\n",
        "day_worked = int(input(\"일한 날짜를 입력하시오.: \"))                                                    # 사용자로부터 일한 날짜를 입력받습니다.\n",
        "day_month = hours_worked * day_worked                                                                   # 월의 총 일한 시간을 계산합니다. (하루 일한 시간 * 일한 날짜)\n",
        "monthly_pay = hours_worked * pay_rate * day_worked                                                      # 월급여를 계산합니다. (일한 시간 * 시급 * 일한 날짜)\n",
        "print(f'일한 시간은 {hours_worked}이며, 시급은 {pay_rate}이고, 월급여는 {monthly_pay}입니다.')          # 일한 시간, 시급, 월급여를 출력합니다."
      ],
      "metadata": {
        "colab": {
          "base_uri": "https://localhost:8080/"
        },
        "id": "R-06M3AypBKK",
        "outputId": "ece2bd71-6976-44be-ffb6-855dab206a1b"
      },
      "execution_count": null,
      "outputs": [
        {
          "output_type": "stream",
          "name": "stdout",
          "text": [
            "일한 시간을 입력하시오.: 10\n",
            "시급을 입력하시오.(23년 시급 9620): 9620\n",
            "일한 날짜를 입력하시오.: 25\n",
            "일한 시간은 10이며, 시급은 9620이고, 월급여는 2405000입니다.\n"
          ]
        }
      ]
    },
    {
      "cell_type": "markdown",
      "source": [
        "사용자로부터 일한 시간, 시급, 일한 날짜를 입력받아 월의 총 일한 시간과 월급여를 계산하고 출력하는 코드입니다.\n",
        "\n",
        "먼저, int(input(\"일한 시간을 입력하시오.: \"))를 통해 사용자로부터 일한 시간을 입력받습니다. 사용자가 입력한 값을 정수형으로 변환하여 hours_worked 변수에 저장합니다.\n",
        "\n",
        "다음으로, int(input(\"시급을 입력하시오.(23년 시급 9620): \"))를 통해 사용자로부터 시급을 입력받습니다. 사용자가 입력한 값을 정수형으로 변환하여 pay_rate 변수에 저장합니다.\n",
        "\n",
        "그리고 int(input(\"일한 날짜를 입력하시오.: \"))를 통해 사용자로부터 일한 날짜를 입력받습니다. 사용자가 입력한 값을 정수형으로 변환하여 day_worked 변수에 저장합니다.\n",
        "\n",
        "그 후, day_month = hours_worked * day_worked를 통해 월의 총 일한 시간을 계산합니다. 일한 시간(hours_worked)과 일한 날짜(day_worked)를 곱하여 day_month 변수에 저장합니다.\n",
        "\n",
        "또한, monthly_pay = hours_worked * pay_rate * day_worked를 통해 월급여를 계산합니다. 일한 시간(hours_worked), 시급(pay_rate), 일한 날짜(day_worked)를 곱하여 monthly_pay 변수에 저장합니다.\n",
        "\n",
        "마지막으로, print(f'일한 시간은 {hours_worked}이며, 시급은 {pay_rate}이고, 월급여는 {monthly_pay}입니다.')를 통해 일한 시간, 시급, 월급여를 출력합니다. f-string을 사용하여 변수 값을 문자열에 삽입하여 출력합니다"
      ],
      "metadata": {
        "id": "scZpUZ7X5PSd"
      }
    },
    {
      "cell_type": "markdown",
      "source": [
        "2. 환전하는 코드를 작성\n",
        "- 변수 won, usd, exchange\n",
        "- 계산 won * usd"
      ],
      "metadata": {
        "id": "hluBvRvEujUx"
      }
    },
    {
      "cell_type": "code",
      "source": [
        "usd = int(input(\"환전할 달러를 입력: \"))                                                # 사용자로부터 환전할 달러를 입력받습니다.\n",
        "won = int(input(\"달러의 환율금액을 입력(231031: 1372원)\"))                              # 사용자로부터 달러의 환율금액을 입력받습니다.\n",
        "exchange = won * usd                                                                    # 사용자로부터 달러의 환율금액을 입력받습니다.\n",
        "print(f'환전하고 싶은 {usd}달러는 환율 {won}으로 계산하면, {exchange}원입니다.')        # 환전할 달러와 환율, 계산된 환전 금액을 출력합니다."
      ],
      "metadata": {
        "colab": {
          "base_uri": "https://localhost:8080/"
        },
        "id": "3OlLHdMmu4oo",
        "outputId": "9cd46c16-51ae-48c1-ef1e-ee1a188acab7"
      },
      "execution_count": null,
      "outputs": [
        {
          "output_type": "stream",
          "name": "stdout",
          "text": [
            "환전할 달러를 입력: 500\n",
            "달러의 환율금액을 입력(231031: 1372원)1372\n",
            "환전하고 싶은 500달러는 환율 1372으로 계산하면, 686000원입니다.\n"
          ]
        }
      ]
    },
    {
      "cell_type": "markdown",
      "source": [
        "usd = int(input(\"환전할 달러를 입력: \")): 사용자로부터 환전할 달러를 입력받습니다. 입력값은 정수로 변환되어 usd 변수에 저장됩니다.\n",
        "won = int(input(\"달러의 환율금액을 입력(231031: 1372원)\")): 사용자로부터 달러의 환율금액을 입력받습니다. 입력값은 정수로 변환되어 won 변수에 저장됩니다.\n",
        "exchange = won * usd: 환전할 달러를 환율금액으로 곱하여 환전 금액을 계산합니다. 계산된 결과는 exchange 변수에 저장됩니다.\n",
        "print(f'환전하고 싶은 {usd}달러는 환율 {won}으로 계산하면, {exchange}원입니다.'): 환전할 달러와 환율, 계산된 환전 금액을 출력합니다. f-string을 사용하여 변수 값을 문자열에 포맷팅하여 출력합니다.\n",
        "따라서, 사용자로부터 입력받은 환전할 달러와 환율을 이용하여 환전 금액을 계산하고 출력하는 코드입니다. 입력된 값들을 기반으로 계산된 환전 금액이 출력됩니다."
      ],
      "metadata": {
        "id": "CwDWj3DGv24u"
      }
    },
    {
      "cell_type": "code",
      "source": [
        "celsius = float(input(\"섭씨를 입력하시오,: \"))    # 사용자로부터 섭씨 온도를 입력받습니다.\n",
        "fahrenheit = celsius * 1.8 + 32                   # 섭씨를 화씨로 변환하는 공식을 적용하여 화씨 온도를 계산합니다.\n",
        "print(fahrenheit)                                 # 화씨 온도를 출력합니다."
      ],
      "metadata": {
        "colab": {
          "base_uri": "https://localhost:8080/"
        },
        "id": "fF_XCpV10I8A",
        "outputId": "c184313f-0461-44b7-e85f-27bec7743b98"
      },
      "execution_count": null,
      "outputs": [
        {
          "output_type": "stream",
          "name": "stdout",
          "text": [
            "섭씨를 입력하시오,: 37.77777777777778\n",
            "100.0\n"
          ]
        }
      ]
    },
    {
      "cell_type": "markdown",
      "source": [
        "celsius = float(input(\"섭씨를 입력하시오,: \")): 사용자로부터 섭씨 온도를 입력받습니다. 입력값은 실수로 변환되어 celsius 변수에 저장됩니다.\n",
        "fahrenheit = celsius * 1.8 + 32: 섭씨를 화씨로 변환하기 위해 변환 공식을 적용합니다. celsius에 1.8을 곱하고 32를 더하여 화씨 온도인 fahrenheit를 계산합니다.\n",
        "print(fahrenheit): 화씨 온도인 fahrenheit를 출력합니다.\n",
        "따라서, 사용자로부터 입력받은 섭씨 온도를 화씨 온도로 변환하여 출력하는 코드입니다. 변환된 화씨 온도가 출력됩니다.\n",
        "\n",
        "\n",
        "\n",
        "\n"
      ],
      "metadata": {
        "id": "ngmLPGQ-wS9M"
      }
    },
    {
      "cell_type": "code",
      "source": [
        "fahrenheit = int(input(\"화씨를 입력하시오.: \"))  # 사용자로부터 화씨 온도를 입력받습니다.\n",
        "celsius = (fahrenheit - 32) / 1.8                # 화씨를 섭씨로 변환하는 공식을 적용하여 섭씨 온도를 계산합니다.\n",
        "print(celsius)                                   # 섭씨 온도를 출력합니다."
      ],
      "metadata": {
        "id": "HQKLnAf9wD0X"
      },
      "execution_count": null,
      "outputs": []
    },
    {
      "cell_type": "markdown",
      "source": [
        " 사용자로부터 화씨 온도를 입력받아 그 값을 섭씨로 변환하여 출력하는 코드입니다.\n",
        "\n",
        "먼저, int(input(\"화씨를 입력하시오.: \"))를 통해 사용자로부터 화씨 온도를 입력받습니다. 사용자가 입력한 값을 정수형으로 변환하여 fahrenheit 변수에 저장합니다.\n",
        "\n",
        "다음으로, (fahrenheit - 32) / 1.8를 통해 화씨를 섭씨로 변환하는 공식을 적용하여 섭씨 온도를 계산합니다. 계산 결과를 celsius 변수에 저장합니다.\n",
        "\n",
        "마지막으로, print(celsius)를 통해 섭씨 온도를 출력합니다. celsius 변수에 저장된 값을 출력합니다.\n",
        "\n",
        "이렇게 작성된 코드는 사용자가 입력한 화씨 온도를 섭씨로 변환하여 출력하는 기능을 수행합니다."
      ],
      "metadata": {
        "id": "eMIys_mx5tZv"
      }
    }
  ]
}