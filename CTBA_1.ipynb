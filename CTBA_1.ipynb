{
  "nbformat": 4,
  "nbformat_minor": 0,
  "metadata": {
    "colab": {
      "provenance": [],
      "authorship_tag": "ABX9TyP92kUUm9EQ9Q5PcHubhbqF",
      "include_colab_link": true
    },
    "kernelspec": {
      "name": "python3",
      "display_name": "Python 3"
    },
    "language_info": {
      "name": "python"
    }
  },
  "cells": [
    {
      "cell_type": "markdown",
      "metadata": {
        "id": "view-in-github",
        "colab_type": "text"
      },
      "source": [
        "<a href=\"https://colab.research.google.com/github/jeongeunseoo/23python3rd/blob/main/CTBA_1.ipynb\" target=\"_parent\"><img src=\"https://colab.research.google.com/assets/colab-badge.svg\" alt=\"Open In Colab\"/></a>"
      ]
    },
    {
      "cell_type": "markdown",
      "source": [
        "1. 쇼핑몰의 배송료를 계산하는 코드작성\n",
        " - 사용하는 변수는  : price, shipping_cost"
      ],
      "metadata": {
        "id": "X3a9qIFwbLgi"
      }
    },
    {
      "cell_type": "code",
      "source": [
        "print(\"상품의 가격을 입력하시오.\")\n",
        "price = int(input(\"구입금액 입력 : \"))\n",
        "if price > 20000:\n",
        "  shipping_cost = 0\n",
        "  print(f'구입금액이 2만원 이상입니다.')\n",
        "else:\n",
        "  shipping_cost = 3000\n",
        "  print(f'구입금액이 2만원 이하입니다.')\n",
        "print(f'회원님의 배송비는 {shipping_cost}원입니다.')"
      ],
      "metadata": {
        "colab": {
          "base_uri": "https://localhost:8080/"
        },
        "id": "hPJofOBEcw9B",
        "outputId": "ac8b7f5e-a6b4-4ac9-bab4-b720b398062a"
      },
      "execution_count": 4,
      "outputs": [
        {
          "output_type": "stream",
          "name": "stdout",
          "text": [
            "상품의 가격을 입력하시오.\n",
            "구입금액 입력 : 20001\n",
            "구입금액이 2만원 이상입니다.\n",
            "회원님의 배송비는 0원입니다.\n"
          ]
        }
      ]
    },
    {
      "cell_type": "markdown",
      "source": [
        "2. 학생으로부터 성적을 입력받아 합격유무를 출력하는 코드\n",
        " - 사용변수 : grade"
      ],
      "metadata": {
        "id": "P83Dn_9DgrVF"
      }
    },
    {
      "cell_type": "code",
      "source": [
        "print(\"성적을 입력하시오.\")\n",
        "grade = int(input(\"성적입력: \"))\n",
        "if grade >= 70:\n",
        "  print(\"70점이상으므로 합격입니다.\")\n",
        "  print(\"축하합니다. 합격입니다.\")\n",
        "else:\n",
        "  print(\"70점이하이므로 불합격입니다.\")\n",
        "  print(\"아쉽군요. 다시한번 도전하시오.\")"
      ],
      "metadata": {
        "id": "qybJ4583h2Y7"
      },
      "execution_count": null,
      "outputs": []
    },
    {
      "cell_type": "markdown",
      "source": [
        "3. 근무시간에 따라 초과근무와 정상근무를 판별하는 코드\n",
        " - work_hour\n",
        " - 코드 work_hour > 72"
      ],
      "metadata": {
        "id": "LhSgMjgKh4Wk"
      }
    },
    {
      "cell_type": "code",
      "source": [
        "print(\"근무시간을 입력하시오.\")\n",
        "work_hour = int(input(\"근무시간 입력: \"))\n",
        "if work_hour > 72:\n",
        "  print(\"_\"* 9 )\n",
        "  print(f'# 초과근무입니다. #')\n",
        "  print(\"￣\"* 9 )\n",
        "else:\n",
        "  print(\"#\"* 9 )\n",
        "  print(f'# 정상근무입니다. #')\n",
        "  print(\"#\"* 9 )"
      ],
      "metadata": {
        "id": "kqitgbq4iSOV"
      },
      "execution_count": null,
      "outputs": []
    },
    {
      "cell_type": "markdown",
      "source": [
        "4. 짝수와 홀수를 판별하는 코드\n",
        " - 사용변수 : _num_\n",
        " - 수식 ; (x % 2) != 0:"
      ],
      "metadata": {
        "id": "U0If3ye1l2DV"
      }
    },
    {
      "cell_type": "code",
      "source": [
        "print(\"정수를 입력하시오.\")\n",
        "_num_ = int(input(\"정수 입력: \"))\n",
        "if (_num_ % 2) != 0:\n",
        "  print(f'입력하신 {_num_}은 홀수입니다.')\n",
        "else:\n",
        "  print(f'입력하신 {_num_}은 짝수입니다.')"
      ],
      "metadata": {
        "id": "fropZbaDmW3V"
      },
      "execution_count": null,
      "outputs": []
    },
    {
      "cell_type": "markdown",
      "source": [
        "5. 사용자의 이름과 나이를 물어보고, 답변하는 코드\n",
        " - 사용변수 ; age, name\n",
        " - 출력할 내용\n",
        "   - 성명\n",
        "   - 나이 : 20\n",
        "   - (1) 20살 이하: 프로그래밍을 배우는 최적의 나이입니다.\n",
        "   - (2) 20살 이상: 아직도 늦지 않았습니다.\n",
        "\n"
      ],
      "metadata": {
        "id": "mNNe0woFnGca"
      }
    },
    {
      "cell_type": "code",
      "source": [
        "print(\"사용자의 이름과 나이을 입력하시오.\")\n",
        "name = input(\"이름 입력: \")\n",
        "age = int(input(\"나이 입력: \"))\n",
        "if age >= 20:\n",
        "  print(f'프로그래밍을 배우는 최적의 나이입니다.')\n",
        "else:\n",
        "  print(f'아직도 늦지 않았습니다.')"
      ],
      "metadata": {
        "colab": {
          "base_uri": "https://localhost:8080/"
        },
        "id": "F4PwqKisn3Yb",
        "outputId": "afd29620-2569-4eff-bedb-d331ca399235"
      },
      "execution_count": 22,
      "outputs": [
        {
          "output_type": "stream",
          "name": "stdout",
          "text": [
            "사용자의 이름과 나이을 입력하시오.\n",
            "이름 입력: 정은서\n",
            "나이 입력: 20\n",
            "프로그래밍을 배우는 최적의 나이입니다.\n"
          ]
        }
      ]
    }
  ]
}