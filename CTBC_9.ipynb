{
  "nbformat": 4,
  "nbformat_minor": 0,
  "metadata": {
    "colab": {
      "provenance": [],
      "authorship_tag": "ABX9TyMGtmrEA1Ii3syjdwIA5QCO",
      "include_colab_link": true
    },
    "kernelspec": {
      "name": "python3",
      "display_name": "Python 3"
    },
    "language_info": {
      "name": "python"
    }
  },
  "cells": [
    {
      "cell_type": "markdown",
      "metadata": {
        "id": "view-in-github",
        "colab_type": "text"
      },
      "source": [
        "<a href=\"https://colab.research.google.com/github/jeongeunseoo/23python3rd/blob/main/CTBC_9.ipynb\" target=\"_parent\"><img src=\"https://colab.research.google.com/assets/colab-badge.svg\" alt=\"Open In Colab\"/></a>"
      ]
    },
    {
      "cell_type": "markdown",
      "source": [
        "\n",
        "1. 두가지 이상의 선택, 다방향 선택 구조 코딩\n",
        " - 배송료 처리 3가지로 코딩\n",
        " - 변수 : price\n",
        " - 조건 : 10만원 이상 배송료 0, 2만원 이상은 3천원, 2만원 이하면 5천원\n",
        "\n"
      ],
      "metadata": {
        "id": "F0Owip60rWkY"
      }
    },
    {
      "cell_type": "code",
      "source": [
        "price = int(input(\"구입금액 입력 : \"))        # 변수 price 사용자가 정수형 금액입력\n",
        "if price >= 100000:                           # price의 값이 10만원보다 크거나 같으면\n",
        "  shipping_cost = 0                           # 배송료(shipping_cost)는 0원\n",
        "else:                                         # 그게 아니면\n",
        "  if price >= 20000:                          # price 값이 2만원보다 크거나 같으면\n",
        "    shipping_cost = 3000                      # 배송료(shipping_cost)는 3000원\n",
        "  else:                                       # 그것도 아니면\n",
        "    shipping_cost = 5000                      # 선택3. 배송료(shipping_cost)는 5000원\n",
        "print(f'배송료는 {shipping_cost}원 입니다.')  # F-String문자 Format을 최종 배송료 출력"
      ],
      "metadata": {
        "colab": {
          "base_uri": "https://localhost:8080/"
        },
        "id": "bDa94f0VsXJR",
        "outputId": "546544d3-5b3d-472c-fe41-c215f976f604"
      },
      "execution_count": null,
      "outputs": [
        {
          "output_type": "stream",
          "name": "stdout",
          "text": [
            "구입금액 입력 : 200000\n",
            "배송료는 0원 입니다.\n"
          ]
        }
      ]
    },
    {
      "cell_type": "markdown",
      "source": [
        "2. 반복구조를 이용한 \"환영합니다.\"를 5번 출력하는 코드 작성\n",
        " - 변수 : Welcome\n",
        " - 출력내용 : 환영합니다.를 새로로 5번, 10번, 30번"
      ],
      "metadata": {
        "id": "yTUMYfWyylmx"
      }
    },
    {
      "cell_type": "code",
      "source": [
        "print(\"환영합니다\")\n",
        "print(\"환영합니다\")\n",
        "print(\"환영합니다\")\n",
        "print(\"환영합니다\")\n",
        "print(\"환영합니다\")"
      ],
      "metadata": {
        "colab": {
          "base_uri": "https://localhost:8080/"
        },
        "id": "RNGpHXWSzff5",
        "outputId": "32165a83-2579-478d-be30-645142c14555"
      },
      "execution_count": null,
      "outputs": [
        {
          "output_type": "stream",
          "name": "stdout",
          "text": [
            "환영합니다\n",
            "환영합니다\n",
            "환영합니다\n",
            "환영합니다\n",
            "환영합니다\n"
          ]
        }
      ]
    },
    {
      "cell_type": "code",
      "source": [
        "print(\"환영합니다.\\n\" *5)"
      ],
      "metadata": {
        "colab": {
          "base_uri": "https://localhost:8080/"
        },
        "id": "JWc3xcLCy5s0",
        "outputId": "eb89d214-5f1b-4f70-f52c-8411e8a4903f"
      },
      "execution_count": null,
      "outputs": [
        {
          "output_type": "stream",
          "name": "stdout",
          "text": [
            "환영합니다.\n",
            "환영합니다.\n",
            "환영합니다.\n",
            "환영합니다.\n",
            "환영합니다.\n",
            "\n"
          ]
        }
      ]
    },
    {
      "cell_type": "code",
      "source": [
        "count = 1\n",
        "while count <= 5:\n",
        "  print(\"(\", count, \")\", \"환영합니다.\")\n",
        "  count= count + 1"
      ],
      "metadata": {
        "colab": {
          "base_uri": "https://localhost:8080/"
        },
        "id": "l5yw05LOznMF",
        "outputId": "5bb34854-bba8-4f39-a66d-f5ace454aa86"
      },
      "execution_count": null,
      "outputs": [
        {
          "output_type": "stream",
          "name": "stdout",
          "text": [
            "( 1 ) 환영합니다.\n",
            "( 2 ) 환영합니다.\n",
            "( 3 ) 환영합니다.\n",
            "( 4 ) 환영합니다.\n",
            "( 5 ) 환영합니다.\n"
          ]
        }
      ]
    },
    {
      "cell_type": "markdown",
      "source": [
        "3. 0부터 9까지 출력하는 코드 작성\n",
        " - 변수 : x"
      ],
      "metadata": {
        "id": "TgUyucCj1jOg"
      }
    },
    {
      "cell_type": "code",
      "source": [
        "x = 0\n",
        "while x < 10:\n",
        "  #print(x)\n",
        "  print(x, end=' ')\n",
        "  x = x +1"
      ],
      "metadata": {
        "colab": {
          "base_uri": "https://localhost:8080/"
        },
        "id": "bUCXwUUR1sMb",
        "outputId": "dcde52b5-1661-4262-fab0-14c76338afe8"
      },
      "execution_count": null,
      "outputs": [
        {
          "output_type": "stream",
          "name": "stdout",
          "text": [
            "0 1 2 3 4 5 6 7 8 9 "
          ]
        }
      ]
    },
    {
      "cell_type": "code",
      "source": [
        "x = 0\n",
        "while x <= 9:\n",
        "  print(x, end=' ')\n",
        "  x += 1"
      ],
      "metadata": {
        "colab": {
          "base_uri": "https://localhost:8080/"
        },
        "id": "jcXdRgk23twR",
        "outputId": "59815660-8669-4a5c-96f6-76f1942fca30"
      },
      "execution_count": null,
      "outputs": [
        {
          "output_type": "stream",
          "name": "stdout",
          "text": [
            "0 1 2 3 4 5 6 7 8 9 "
          ]
        }
      ]
    },
    {
      "cell_type": "markdown",
      "source": [
        "4. 1부터 10까지 합산하는 코드 작성\n"
      ],
      "metadata": {
        "id": "xqDTJK363Dft"
      }
    },
    {
      "cell_type": "code",
      "source": [
        "x = 1\n",
        "total = 0\n",
        "while x <= 10:\n",
        "  total += x\n",
        "  #total = total + 1\n",
        "  #x = x + 1\n",
        "  x += 1\n",
        "print(total)"
      ],
      "metadata": {
        "colab": {
          "base_uri": "https://localhost:8080/"
        },
        "id": "vQaTwT9c3JXB",
        "outputId": "901537ce-b6ed-4951-8068-7e55b375a831"
      },
      "execution_count": null,
      "outputs": [
        {
          "output_type": "stream",
          "name": "stdout",
          "text": [
            "55\n"
          ]
        }
      ]
    },
    {
      "cell_type": "markdown",
      "source": [
        "5. 3-6-9 게임 (3의 배수 판단) : 3의 배수를 3으로 나누면 나머지가 0이 되므로 (i mod 3)의 값이 0이면 박수를 출력, 아니면 숫자를 출력하느 코드"
      ],
      "metadata": {
        "id": "qqGpHGob4J4G"
      }
    },
    {
      "cell_type": "code",
      "source": [
        "for num in range(1, 21):\n",
        "  if num % 3 == 0:\n",
        "    print(\"박수\", end=' ')\n",
        "  else:\n",
        "    print(num, end=' ')"
      ],
      "metadata": {
        "colab": {
          "base_uri": "https://localhost:8080/"
        },
        "id": "nC5oA78x4q8J",
        "outputId": "fe2b8628-b4a6-491a-cc65-a406b7cdbcb2"
      },
      "execution_count": null,
      "outputs": [
        {
          "output_type": "stream",
          "name": "stdout",
          "text": [
            "1 2 박수 4 5 박수 7 8 박수 10 11 박수 13 14 박수 16 17 박수 19 20 "
          ]
        }
      ]
    },
    {
      "cell_type": "code",
      "source": [
        "num = 1\n",
        "while num <= 20:\n",
        "  if num % 3 == 0:\n",
        "    print(\"박수\", end=' ')\n",
        "  else:\n",
        "    print(num, end=' ')\n",
        "  num += 1"
      ],
      "metadata": {
        "colab": {
          "base_uri": "https://localhost:8080/"
        },
        "id": "Empaf3v_5VN6",
        "outputId": "bcaa0125-7c01-4c50-e4df-63ff6125f8d3"
      },
      "execution_count": null,
      "outputs": [
        {
          "output_type": "stream",
          "name": "stdout",
          "text": [
            "1 2 박수 4 5 박수 7 8 박수 10 11 박수 13 14 박수 16 17 박수 19 20 "
          ]
        }
      ]
    },
    {
      "cell_type": "markdown",
      "source": [
        "6. 팩토라얼 계산하는 코드 작성\n",
        " - 1! = 1, 2! = 2(1)=2, 3! = 3(2)(1)=6"
      ],
      "metadata": {
        "id": "xk719a6mbspv"
      }
    },
    {
      "cell_type": "code",
      "source": [
        "# 계산할 숫자를 입력받습니다.\n",
        "num = int(input(\"팩토리얼을 입력할 숫자를 입력하시오.: \"))\n",
        "\n",
        "# 초기값으로 1을 선정합니다.\n",
        "factorial = 1\n",
        "\n",
        "# 팩토리얼 계산을 위한 반복문인 while입니다.\n",
        "while num >= 1:                 # num 값이 1보다 크거나 같을 때 하위 문장(코드)를 진행\n",
        "  factorial = factorial * num   # 현재 num 값을 factorial 값에 곱해줍니다.\n",
        "  num -= 1                      # num 값을 1씩 감소시킵니다.\n",
        "\n",
        "print(f'계산된 팩토리얼 값은 {factorial}입니다.')"
      ],
      "metadata": {
        "colab": {
          "base_uri": "https://localhost:8080/"
        },
        "id": "ZXXlNz49cmyK",
        "outputId": "890e75f1-f191-4326-c22a-1624b49e781f"
      },
      "execution_count": 2,
      "outputs": [
        {
          "output_type": "stream",
          "name": "stdout",
          "text": [
            "팩토리얼을 입력할 숫자를 입력하시오.: 5\n",
            "계산된 팩토리얼 값은 120입니다.\n"
          ]
        }
      ]
    },
    {
      "cell_type": "code",
      "source": [
        "i = 5\n",
        "factorial = 1\n",
        "while i >= 10:\n",
        "  factorial *= i\n",
        "  i -= 1\n",
        "  print(factorial)"
      ],
      "metadata": {
        "id": "XNZY7jPbcVz6"
      },
      "execution_count": 12,
      "outputs": []
    },
    {
      "cell_type": "markdown",
      "source": [
        "7. 구구단 출력해주는 코드 작성\n",
        " - 변수 : dan\n",
        " - 반복문(1) : for문 사용\n",
        " - 반복문(2) : while문 사용"
      ],
      "metadata": {
        "id": "_X3t5NwMe3Y0"
      }
    },
    {
      "cell_type": "code",
      "source": [
        "# for문 사용\n",
        "dan = int(input(\"구구단에서 몇단을 사용할까요: \"))\n",
        "for i in range(1,10):\n",
        "  print(dan, \"x\", i, \"=\", dan * i)"
      ],
      "metadata": {
        "colab": {
          "base_uri": "https://localhost:8080/"
        },
        "id": "q9jWsnzrfLQQ",
        "outputId": "1dc8f262-11ee-4ec7-a049-5df923e3e85f"
      },
      "execution_count": 17,
      "outputs": [
        {
          "output_type": "stream",
          "name": "stdout",
          "text": [
            "구구단에서 몇단을 사용할까요: 4\n",
            "4 x 1 = 4\n",
            "4 x 2 = 8\n",
            "4 x 3 = 12\n",
            "4 x 4 = 16\n",
            "4 x 5 = 20\n",
            "4 x 6 = 24\n",
            "4 x 7 = 28\n",
            "4 x 8 = 32\n",
            "4 x 9 = 36\n"
          ]
        }
      ]
    },
    {
      "cell_type": "code",
      "source": [
        "# while문 사용\n",
        "dan = int(input(\"구구단에서 몇단을 출력할래?: \"))\n",
        "i = 1\n",
        "while i <= 9:\n",
        "  print(dan, \"x\", i, \"=\", dan * i )\n",
        "  i += 1"
      ],
      "metadata": {
        "colab": {
          "base_uri": "https://localhost:8080/"
        },
        "id": "2Kjv4VuTf4Vx",
        "outputId": "a2385ab7-1c8c-4455-e599-0f28b5508ae1"
      },
      "execution_count": 18,
      "outputs": [
        {
          "output_type": "stream",
          "name": "stdout",
          "text": [
            "구구단에서 몇단을 출력할래?: 9\n",
            "9 x 1 = 9\n",
            "9 x 2 = 18\n",
            "9 x 3 = 27\n",
            "9 x 4 = 36\n",
            "9 x 5 = 45\n",
            "9 x 6 = 54\n",
            "9 x 7 = 63\n",
            "9 x 8 = 72\n",
            "9 x 9 = 81\n"
          ]
        }
      ]
    },
    {
      "cell_type": "code",
      "source": [],
      "metadata": {
        "id": "A4R5-Sd3kApp"
      },
      "execution_count": null,
      "outputs": []
    }
  ]
}