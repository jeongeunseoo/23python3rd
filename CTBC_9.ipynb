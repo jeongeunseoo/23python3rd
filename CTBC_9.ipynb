{
  "nbformat": 4,
  "nbformat_minor": 0,
  "metadata": {
    "colab": {
      "provenance": [],
      "authorship_tag": "ABX9TyPsaDIsTqgbg8cETl3zggU3",
      "include_colab_link": true
    },
    "kernelspec": {
      "name": "python3",
      "display_name": "Python 3"
    },
    "language_info": {
      "name": "python"
    }
  },
  "cells": [
    {
      "cell_type": "markdown",
      "metadata": {
        "id": "view-in-github",
        "colab_type": "text"
      },
      "source": [
        "<a href=\"https://colab.research.google.com/github/jeongeunseoo/23python3rd/blob/main/CTBC_9.ipynb\" target=\"_parent\"><img src=\"https://colab.research.google.com/assets/colab-badge.svg\" alt=\"Open In Colab\"/></a>"
      ]
    },
    {
      "cell_type": "markdown",
      "source": [
        "\n",
        "1. 두가지 이상의 선택, 다방향 선택 구조 코딩\n",
        " - 배송료 처리 3가지로 코딩\n",
        " - 변수 : price\n",
        " - 조건 : 10만원 이상 배송료 0, 2만원 이상은 3천원, 2만원 이하면 5천원\n",
        "\n"
      ],
      "metadata": {
        "id": "F0Owip60rWkY"
      }
    },
    {
      "cell_type": "code",
      "source": [
        "price = int(input(\"구입금액 입력 : \"))        # 변수 price 사용자가 정수형 금액입력\n",
        "if price >= 100000:                           # price의 값이 10만원보다 크거나 같으면\n",
        "  shipping_cost = 0                           # 배송료(shipping_cost)는 0원\n",
        "else:                                         # 그게 아니면\n",
        "  if price >= 20000:                          # price 값이 2만원보다 크거나 같으면\n",
        "    shipping_cost = 3000                      # 배송료(shipping_cost)는 3000원\n",
        "  else:                                       # 그것도 아니면\n",
        "    shipping_cost = 5000                      # 선택3. 배송료(shipping_cost)는 5000원\n",
        "print(f'배송료는 {shipping_cost}원 입니다.')  # F-String문자 Format을 최종 배송료 출력"
      ],
      "metadata": {
        "colab": {
          "base_uri": "https://localhost:8080/"
        },
        "id": "bDa94f0VsXJR",
        "outputId": "546544d3-5b3d-472c-fe41-c215f976f604"
      },
      "execution_count": null,
      "outputs": [
        {
          "output_type": "stream",
          "name": "stdout",
          "text": [
            "구입금액 입력 : 200000\n",
            "배송료는 0원 입니다.\n"
          ]
        }
      ]
    },
    {
      "cell_type": "markdown",
      "source": [
        "구입금액에 따라 배송료를 계산하고 출력하는 기능을 가지고 있습니다. 사용자로부터 입력받은 구입금액을 정수형으로 변환하여 변수 price에 저장합니다. 그 후, if문을 사용하여 구입금액의 범위에 따라 배송료를 결정합니다.\n",
        "\n",
        "만약 price가 10만원 이상일 경우, 배송료 shipping_cost는 0원입니다.\n",
        "그렇지 않고, price가 2만원 이상일 경우, 배송료 shipping_cost는 3000원입니다.\n",
        "그 외의 경우에는 배송료 shipping_cost는 5000원입니다.\n",
        "마지막으로, F-String을 사용하여 최종 배송료를 출력합니다.\n",
        "\n",
        "코드를 실행하면 \"구입금액 입력 : \"이라는 메시지가 나타납니다. 여기에 구입금액을 입력하면 해당 금액에 따라 배송료가 계산되고 출력됩니다. 예를 들어, 구입금액이 150000원일 경우 배송료는 0원이 됩니다."
      ],
      "metadata": {
        "id": "X3bS3JRZ6Dc3"
      }
    },
    {
      "cell_type": "markdown",
      "source": [
        "2. 반복구조를 이용한 \"환영합니다.\"를 5번 출력하는 코드 작성\n",
        " - 변수 : Welcome\n",
        " - 출력내용 : 환영합니다.를 새로로 5번, 10번, 30번"
      ],
      "metadata": {
        "id": "yTUMYfWyylmx"
      }
    },
    {
      "cell_type": "code",
      "source": [
        "print(\"환영합니다\")       # \"환영합니다\"를 출력하는 코드입니다.\n",
        "print(\"환영합니다\")       # \"환영합니다\"를 출력하는 코드입니다.\n",
        "print(\"환영합니다\")       # \"환영합니다\"를 출력하는 코드입니다.\n",
        "print(\"환영합니다\")       # \"환영합니다\"를 출력하는 코드입니다.\n",
        "print(\"환영합니다\")       # \"환영합니다\"를 출력하는 코드입니다."
      ],
      "metadata": {
        "colab": {
          "base_uri": "https://localhost:8080/"
        },
        "id": "RNGpHXWSzff5",
        "outputId": "32165a83-2579-478d-be30-645142c14555"
      },
      "execution_count": null,
      "outputs": [
        {
          "output_type": "stream",
          "name": "stdout",
          "text": [
            "환영합니다\n",
            "환영합니다\n",
            "환영합니다\n",
            "환영합니다\n",
            "환영합니다\n"
          ]
        }
      ]
    },
    {
      "cell_type": "code",
      "source": [
        "print(\"환영합니다.\\n\" *5)       # \"환영합니다\"를 5번 반복해서 출력하는 코드입니다."
      ],
      "metadata": {
        "colab": {
          "base_uri": "https://localhost:8080/"
        },
        "id": "JWc3xcLCy5s0",
        "outputId": "eb89d214-5f1b-4f70-f52c-8411e8a4903f"
      },
      "execution_count": null,
      "outputs": [
        {
          "output_type": "stream",
          "name": "stdout",
          "text": [
            "환영합니다.\n",
            "환영합니다.\n",
            "환영합니다.\n",
            "환영합니다.\n",
            "환영합니다.\n",
            "\n"
          ]
        }
      ]
    },
    {
      "cell_type": "markdown",
      "source": [
        "코드는 \"환영합니다\"를 5번 출력하는 코드입니다. \"환영합니다.\\n\" * 5와 같이 문자열을 5번 반복해서 출력하는 방식입니다."
      ],
      "metadata": {
        "id": "rIx8rTmW7cv2"
      }
    },
    {
      "cell_type": "code",
      "source": [
        "count = 1                                   # 변수 count를 1로 초기화합니다.\n",
        "while count <= 5:                           # count가 5보다 작거나 같은 동안 반복합니다.\n",
        "  print(\"(\", count, \")\", \"환영합니다.\")     # \"(\", count, \")\", \"환영합니다.\"를 출력합니다.\n",
        "  count= count + 1                          # count에 1을 더하여 값을 업데이트합니다."
      ],
      "metadata": {
        "colab": {
          "base_uri": "https://localhost:8080/"
        },
        "id": "l5yw05LOznMF",
        "outputId": "5bb34854-bba8-4f39-a66d-f5ace454aa86"
      },
      "execution_count": null,
      "outputs": [
        {
          "output_type": "stream",
          "name": "stdout",
          "text": [
            "( 1 ) 환영합니다.\n",
            "( 2 ) 환영합니다.\n",
            "( 3 ) 환영합니다.\n",
            "( 4 ) 환영합니다.\n",
            "( 5 ) 환영합니다.\n"
          ]
        }
      ]
    },
    {
      "cell_type": "markdown",
      "source": [
        "위의 코드는 while 반복문을 사용하여 변수 count가 5보다 작거나 같은 동안 반복하면서 \"환영합니다\" 문장을 출력합니다.\n",
        "\n",
        "count 변수는 1로 초기화됩니다.\n",
        "while 문의 조건인 count <= 5는 count가 5보다 작거나 같은 동안 반복을 수행합니다.\n",
        "반복문 내부에서는 \"(\", count, \")\", \"환영합니다.\"를 출력합니다. 이때 count 변수의 값은 출력에 사용됩니다.\n",
        "count = count + 1을 통해 count 변수의 값을 1씩 증가시킵니다."
      ],
      "metadata": {
        "id": "Vhk-56GM7kkm"
      }
    },
    {
      "cell_type": "markdown",
      "source": [],
      "metadata": {
        "id": "kt5DI2qm7q0v"
      }
    },
    {
      "cell_type": "markdown",
      "source": [
        "3. 0부터 9까지 출력하는 코드 작성\n",
        " - 변수 : x"
      ],
      "metadata": {
        "id": "TgUyucCj1jOg"
      }
    },
    {
      "cell_type": "code",
      "source": [
        "x = 0\n",
        "while x < 10:\n",
        "  #print(x)\n",
        "  print(x, end=' ')     # 변수 x의 값을 출력하고, 공백을 추가하여 한 줄에 출력합니다.\n",
        "  x = x +1              # 변수 x의 값을 1씩 증가시킵니다."
      ],
      "metadata": {
        "colab": {
          "base_uri": "https://localhost:8080/"
        },
        "id": "bUCXwUUR1sMb",
        "outputId": "dcde52b5-1661-4262-fab0-14c76338afe8"
      },
      "execution_count": null,
      "outputs": [
        {
          "output_type": "stream",
          "name": "stdout",
          "text": [
            "0 1 2 3 4 5 6 7 8 9 "
          ]
        }
      ]
    },
    {
      "cell_type": "markdown",
      "source": [
        "변수 x를 0으로 초기화한 후, while 반복문을 사용하여 x가 10보다 작을 때까지 반복하여 실행하는 코드입니다.\n",
        "\n",
        "먼저, x = 0을 통해 변수 x를 0으로 초기화합니다.\n",
        "\n",
        "다음으로, while x < 10:을 통해 x가 10보다 작을 때까지 반복합니다.\n",
        "\n",
        "print(x, end=' ')는 변수 x의 값을 출력하고, 공백을 추가하여 한 줄에 출력합니다.\n",
        "\n",
        "마지막으로, x = x + 1을 통해 변수 x의 값을 1씩 증가시킵니다.\n",
        "\n",
        "이렇게 작성된 코드는 변수 x의 값을 0부터 1씩 증가시키면서 출력하는 기능을 수행합니다. 출력 결과는 0부터 9까지의 숫자가 공백을 포함하여 한 줄에 출력됩니다"
      ],
      "metadata": {
        "id": "Cy1OChXc7EBX"
      }
    },
    {
      "cell_type": "code",
      "source": [
        "x = 0                 # 변수 x를 0으로 초기화합니다.\n",
        "while x <= 9:         # x가 9보다 작거나 같은 동안 반복합니다.\n",
        "  print(x, end=' ')   # X를 공백으로 구분하여 출력합니다.\n",
        "  x += 1              # x에 1을 더하여 값을 업데이트합니다."
      ],
      "metadata": {
        "colab": {
          "base_uri": "https://localhost:8080/"
        },
        "id": "jcXdRgk23twR",
        "outputId": "59815660-8669-4a5c-96f6-76f1942fca30"
      },
      "execution_count": null,
      "outputs": [
        {
          "output_type": "stream",
          "name": "stdout",
          "text": [
            "0 1 2 3 4 5 6 7 8 9 "
          ]
        }
      ]
    },
    {
      "cell_type": "markdown",
      "source": [
        "변수 x를 0으로 초기화한 후, while 반복문을 사용하여 x가 9보다 작거나 같을 때까지 반복하여 실행하는 코드입니다.\n",
        "\n",
        "먼저, x = 0을 통해 변수 x를 0으로 초기화합니다.\n",
        "\n",
        "다음으로, while x <= 9:을 통해 x가 9보다 작거나 같을 때까지 반복합니다.\n",
        "\n",
        "print(x, end=' ')는 변수 x의 값을 출력하고, 공백을 추가하여 한 줄에 출력합니다.\n",
        "\n",
        "마지막으로, x += 1을 통해 변수 x에 1을 더하여 값을 업데이트합니다.\n",
        "\n",
        "이렇게 작성된 코드는 변수 x의 값을 0부터 1씩 증가시키면서 출력하는 기능을 수행합니다. 출력 결과는 0부터 9까지의 숫자가 공백을 포함하여 한 줄에 출력됩니다."
      ],
      "metadata": {
        "id": "_ZuDV6m67Ros"
      }
    },
    {
      "cell_type": "markdown",
      "source": [
        "4. 1부터 10까지 합산하는 코드 작성\n"
      ],
      "metadata": {
        "id": "xqDTJK363Dft"
      }
    },
    {
      "cell_type": "code",
      "source": [
        "x = 1                   # 변수 x를 1로 초기화합니다.\n",
        "total = 0               # 변수 total을 0으로 초기화합니다.\n",
        "while x <= 10:          # x가 10보다 작거나 같은 동안 반복합니다.\n",
        "  total += x            # total에 x를 더하여 값을 누적합니다.\n",
        "  #total = total + 1\n",
        "  x = x + 1             # x에 1을 더하여 값을 업데이트합니다.\n",
        "  # x += 1\n",
        "print(total)            # total을 출력합니다."
      ],
      "metadata": {
        "colab": {
          "base_uri": "https://localhost:8080/"
        },
        "id": "vQaTwT9c3JXB",
        "outputId": "901537ce-b6ed-4951-8068-7e55b375a831"
      },
      "execution_count": null,
      "outputs": [
        {
          "output_type": "stream",
          "name": "stdout",
          "text": [
            "55\n"
          ]
        }
      ]
    },
    {
      "cell_type": "markdown",
      "source": [
        "위의 코드는 while 반복문을 사용하여 변수 x가 10보다 작거나 같은 동안 반복하면서 total 변수에 x 값을 누적합니다.\n",
        "\n",
        "x 변수는 1로 초기화됩니다.\n",
        "total 변수는 0으로 초기화됩니다.\n",
        "while 문의 조건인 x <= 10은 x가 10보다 작거나 같은 동안 반복을 수행합니다.\n",
        "반복문 내부에서는 total += x를 통해 total에 x 값을 더하여 값을 누적합니다.\n",
        "x = x + 1을 통해 x 변수의 값을 1씩 증가시킵니다.\n",
        "반복문이 종료된 후 print(total)을 통해 total 값을 출력합니다."
      ],
      "metadata": {
        "id": "Q1Q0a0ye8TvX"
      }
    },
    {
      "cell_type": "markdown",
      "source": [
        "5. 3-6-9 게임 (3의 배수 판단) : 3의 배수를 3으로 나누면 나머지가 0이 되므로 (i mod 3)의 값이 0이면 박수를 출력, 아니면 숫자를 출력하느 코드"
      ],
      "metadata": {
        "id": "qqGpHGob4J4G"
      }
    },
    {
      "cell_type": "code",
      "source": [
        "for num in range(1, 21):      # 1부터 20까지의 숫자를 반복합니다.\n",
        "  if num % 3 == 0:            # num이 3의 배수인지 확인합니다.\n",
        "    print(\"박수\", end=' ')    # 3의 배수인 경우 \"박수\"를 출력합니다.\n",
        "  else:\n",
        "    print(num, end=' ')       # 3의 배수가 아닌 경우 숫자를 출력합니다."
      ],
      "metadata": {
        "colab": {
          "base_uri": "https://localhost:8080/"
        },
        "id": "nC5oA78x4q8J",
        "outputId": "fe2b8628-b4a6-491a-cc65-a406b7cdbcb2"
      },
      "execution_count": null,
      "outputs": [
        {
          "output_type": "stream",
          "name": "stdout",
          "text": [
            "1 2 박수 4 5 박수 7 8 박수 10 11 박수 13 14 박수 16 17 박수 19 20 "
          ]
        }
      ]
    },
    {
      "cell_type": "markdown",
      "source": [
        "위의 코드는 for 반복문을 사용하여 변수 num이 1부터 20까지의 숫자를 반복합니다.\n",
        "\n",
        "range(1, 21)은 1부터 20까지의 숫자 범위를 나타냅니다. num 변수는 이 범위의 각 숫자를 차례대로 가져옵니다.\n",
        "if num % 3 == 0:는 num이 3의 배수인지 확인하는 조건문입니다. % 연산자를 사용하여 num을 3으로 나눈 나머지가 0인지 확인합니다.\n",
        "3의 배수인 경우 print(\"박수\", end=' ')를 통해 \"박수\"를 출력합니다. end=' '를 사용하여 출력 후 줄바꿈 대신 공백으로 구분합니다.\n",
        "3의 배수가 아닌 경우 print(num, end=' ')를 통해 숫자를 출력합니다.\n",
        "반복문이 종료된 후에는 각 숫자와 \"박수\"가 공백으로 구분되어 출력됩니다."
      ],
      "metadata": {
        "id": "dpmC2vT08o6v"
      }
    },
    {
      "cell_type": "code",
      "source": [
        "num = 1                        # 변수 num을 1로 초기화합니다.\n",
        "while num <= 20:               # num이 20보다 작거나 같은 동안 반복합니다.\n",
        "  if num % 3 == 0:             # num이 3의 배수인지 확인합니다.\n",
        "    print(\"박수\", end=' ')     # 3의 배수인 경우 \"박수\"를 출력합니다.\n",
        "  else:\n",
        "    print(num, end=' ')        # 3의 배수가 아닌 경우 숫자를 출력합니다.\n",
        "  num += 1                     # num을 1씩 증가시킵니다."
      ],
      "metadata": {
        "colab": {
          "base_uri": "https://localhost:8080/"
        },
        "id": "Empaf3v_5VN6",
        "outputId": "bcaa0125-7c01-4c50-e4df-63ff6125f8d3"
      },
      "execution_count": null,
      "outputs": [
        {
          "output_type": "stream",
          "name": "stdout",
          "text": [
            "1 2 박수 4 5 박수 7 8 박수 10 11 박수 13 14 박수 16 17 박수 19 20 "
          ]
        }
      ]
    },
    {
      "cell_type": "markdown",
      "source": [
        "위의 코드는 while 반복문을 사용하여 변수 num이 20보다 작거나 같은 동안 반복하면서 num 값을 확인하고 출력합니다.\n",
        "\n",
        "num 변수는 1로 초기화됩니다.\n",
        "while 문의 조건인 num <= 20은 num이 20보다 작거나 같은 동안 반복을 수행합니다.\n",
        "반복문 내부에서는 if num % 3 == 0:를 통해 num이 3의 배수인지 확인합니다. % 연산자를 사용하여 num을 3으로 나눈 나머지가 0인지 확인합니다.\n",
        "3의 배수인 경우 print(\"박수\", end=' ')를 통해 \"박수\"를 출력합니다. end=' '를 사용하여 출력 후 줄바꿈 대신 공백으로 구분합니다.\n",
        "3의 배수가 아닌 경우 print(num, end=' ')를 통해 숫자를 출력합니다.\n",
        "num += 1을 통해 num 변수의 값을 1씩 증가시킵니다.\n"
      ],
      "metadata": {
        "id": "jIQ8Qf638xy_"
      }
    },
    {
      "cell_type": "markdown",
      "source": [],
      "metadata": {
        "id": "C6ddYhAv8prP"
      }
    },
    {
      "cell_type": "markdown",
      "source": [
        "6. 팩토라얼 계산하는 코드 작성\n",
        " - 1! = 1, 2! = 2(1)=2, 3! = 3(2)(1)=6"
      ],
      "metadata": {
        "id": "xk719a6mbspv"
      }
    },
    {
      "cell_type": "code",
      "source": [
        "# 계산할 숫자를 입력받습니다.\n",
        "num = int(input(\"팩토리얼을 입력할 숫자를 입력하시오.: \"))\n",
        "\n",
        "# 초기값으로 1을 선정합니다.\n",
        "factorial = 1\n",
        "\n",
        "# 팩토리얼 계산을 위한 반복문인 while입니다.\n",
        "while num >= 1:                 # num 값이 1보다 크거나 같을 때 하위 문장(코드)를 진행\n",
        "  factorial = factorial * num   # 현재 num 값을 factorial 값에 곱해줍니다.\n",
        "  num -= 1                      # num 값을 1씩 감소시킵니다.\n",
        "\n",
        "print(f'계산된 팩토리얼 값은 {factorial}입니다.')"
      ],
      "metadata": {
        "colab": {
          "base_uri": "https://localhost:8080/"
        },
        "id": "ZXXlNz49cmyK",
        "outputId": "890e75f1-f191-4326-c22a-1624b49e781f"
      },
      "execution_count": null,
      "outputs": [
        {
          "output_type": "stream",
          "name": "stdout",
          "text": [
            "팩토리얼을 입력할 숫자를 입력하시오.: 5\n",
            "계산된 팩토리얼 값은 120입니다.\n"
          ]
        }
      ]
    },
    {
      "cell_type": "markdown",
      "source": [
        "위의 코드는 while 반복문을 사용하여 입력받은 숫자의 팩토리얼을 계산합니다.\n",
        "\n",
        "num 변수는 int(input(\"팩토리얼을 입력할 숫자를 입력하시오.: \"))를 통해 사용자로부터 입력받은 숫자로 초기화됩니다.\n",
        "factorial 변수는 초기값으로 1로 설정됩니다.\n",
        "while 문의 조건인 num >= 1은 num 값이 1보다 크거나 같을 때 반복을 수행합니다.\n",
        "반복문 내부에서는 factorial = factorial * num을 통해 현재의 num 값을 factorial 값에 곱해줍니다.\n",
        "num -= 1을 통해 num 값을 1씩 감소시킵니다.\n",
        "반복문이 종료된 후 print(f'계산된 팩토리얼 값은 {factorial}입니다.')를 통해 계산된 팩토리얼 값을 출력합니다."
      ],
      "metadata": {
        "id": "imGt26qC87cJ"
      }
    },
    {
      "cell_type": "code",
      "source": [
        "i = 5                 # 변수 i를 5로 초기화합니다.\n",
        "factorial = 1         # 변수 factorial을 1로 초기화합니다.\n",
        "while i >= 10:        # i가 10 이상일 때까지 반복합니다.\n",
        "  factorial *= i      # factorial에 i를 곱하여 값을 업데이트합니다.\n",
        "  i -= 1              # i를 1씩 감소시킵니다.\n",
        "  print(factorial)    # factorial을 출력합니다."
      ],
      "metadata": {
        "id": "XNZY7jPbcVz6"
      },
      "execution_count": null,
      "outputs": []
    },
    {
      "cell_type": "markdown",
      "source": [
        "i = 5: 변수 i를 5로 초기화합니다.\n",
        "factorial = 1: 변수 factorial을 1로 초기화합니다.\n",
        "while i >= 10: i가 10 이상일 때까지 반복합니다. 하지만 i가 초기값인 5로 설정되어 있으므로, 반복문은 실행되지 않습니다.\n",
        "factorial *= i: factorial에 i를 곱하여 값을 업데이트합니다. 현재 factorial은 1이므로, 변화가 없습니다.\n",
        "i -= 1: i를 1씩 감소시킵니다. 이제 i의 값은 4가 됩니다.\n",
        "print(factorial): factorial을 출력합니다. 현재 factorial은 1이므로, 출력 결과는 1입니다.\n",
        "따라서, 주어진 코드는 factorial을 계산하는 목적으로 작성되었으나, 반복문의 조건이 충족되지 않아 실제로 계산이 이루어지지 않고, factorial의 초기값인 1만 출력됩니다. 만약 while문의 조건을 수정하여 원하는 팩토리얼을 계산할 수 있도록 코드를 수정해야 합니다."
      ],
      "metadata": {
        "id": "go6hupUsrua6"
      }
    },
    {
      "cell_type": "markdown",
      "source": [],
      "metadata": {
        "id": "CYM2HnjjruZZ"
      }
    },
    {
      "cell_type": "code",
      "source": [
        "# for문 사용\n",
        "dan = int(input(\"구구단에서 몇단을 사용할까요: \"))    # 사용자로부터 구구단에서 몇 단으로 사용할 것인지 입력받습니다.\n",
        "for i in range(1,10):                                 # 1부터 9까지의 숫자를 반복합니다.\n",
        "  print(dan, \"x\", i, \"=\", dan * i)                    # 구구단을 출력합니다. dan과 i를 곱한 결과를 출력합니다."
      ],
      "metadata": {
        "id": "q9jWsnzrfLQQ"
      },
      "execution_count": null,
      "outputs": []
    },
    {
      "cell_type": "markdown",
      "source": [
        "dan = int(input(\"구구단에서 몇단을 사용할까요: \")): 사용자로부터 구구단에서 몇 단으로 사용할 것인지 입력을 받습니다. 입력값은 정수로 변환되어 dan 변수에 저장됩니다.\n",
        "for i in range(1,10):: 1부터 9까지의 숫자를 반복합니다. range(1, 10)은 1부터 9까지의 숫자 범위를 나타냅니다.\n",
        "print(dan, \"x\", i, \"=\", dan * i): 구구단을 출력합니다. dan과 i를 곱한 결과를 출력하는데, 곱셈 결과를 \"x\"와 \"=\"로 구분하여 출력합니다.\n",
        "따라서, 사용자로부터 입력받은 dan 값에 따라 해당 구구단을 출력하는 코드입니다. 예를 들어, 사용자가 2를 입력하면 2단의 구구단이 출력됩니다."
      ],
      "metadata": {
        "id": "YZ4AUqQar5Sl"
      }
    },
    {
      "cell_type": "markdown",
      "source": [],
      "metadata": {
        "id": "9Rw8jrYGr5RA"
      }
    },
    {
      "cell_type": "code",
      "source": [
        "# while문 사용\n",
        "dan = int(input(\"구구단에서 몇단을 출력할래?: \"))     # 사용자로부터 구구단에서 몇 단을 출력할 것인지 입력받습니다.\n",
        "i = 1             # 변수 i를 1로 초기화합니다.\n",
        "while i <= 9:     # i가 9 이하일 때까지 반복됩니다.\n",
        "  print(dan, \"x\", i, \"=\", dan * i )          # 구구단을 출력합니다. dan과 i를 곱한 결과를 출력합니다.\n",
        "  i += 1          # i를 1씩 증가시킵니다."
      ],
      "metadata": {
        "colab": {
          "base_uri": "https://localhost:8080/"
        },
        "id": "2Kjv4VuTf4Vx",
        "outputId": "a2385ab7-1c8c-4455-e599-0f28b5508ae1"
      },
      "execution_count": null,
      "outputs": [
        {
          "output_type": "stream",
          "name": "stdout",
          "text": [
            "구구단에서 몇단을 출력할래?: 9\n",
            "9 x 1 = 9\n",
            "9 x 2 = 18\n",
            "9 x 3 = 27\n",
            "9 x 4 = 36\n",
            "9 x 5 = 45\n",
            "9 x 6 = 54\n",
            "9 x 7 = 63\n",
            "9 x 8 = 72\n",
            "9 x 9 = 81\n"
          ]
        }
      ]
    },
    {
      "cell_type": "markdown",
      "source": [
        "dan = int(input(\"구구단에서 몇단을 출력할래?: \")): 사용자로부터 구구단에서 몇 단을 출력할 것인지 입력을 받습니다. 입력값은 정수로 변환되어 dan 변수에 저장됩니다.\n",
        "i = 1: 변수 i를 1로 초기화합니다.\n",
        "while i <= 9:: i가 9 이하일 때까지 반복합니다. 즉, 1부터 9까지의 숫자를 반복하게 됩니다.\n",
        "print(dan, \"x\", i, \"=\", dan * i ): 구구단을 출력합니다. dan과 i를 곱한 결과를 출력하는데, 곱셈 결과를 \"x\"와 \"=\"로 구분하여 출력합니다.\n",
        "i += 1: i를 1씩 증가시킵니다.\n",
        "따라서, 사용자로부터 입력받은 dan 값에 따라 해당 구구단을 출력하는 코드입니다. 예를 들어, 사용자가 2를 입력하면 2단의 구구단이 출력됩니다. while문을 사용하여 반복하며, i가 1부터 9까지 증가하면서 구구단이 출력됩니다.\n",
        "\n",
        "\n",
        "\n",
        "\n"
      ],
      "metadata": {
        "id": "LEJMNy3osCtA"
      }
    },
    {
      "cell_type": "code",
      "source": [],
      "metadata": {
        "id": "A4R5-Sd3kApp"
      },
      "execution_count": null,
      "outputs": []
    }
  ]
}