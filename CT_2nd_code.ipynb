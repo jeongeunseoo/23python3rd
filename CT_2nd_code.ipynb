{
  "nbformat": 4,
  "nbformat_minor": 0,
  "metadata": {
    "colab": {
      "provenance": [],
      "authorship_tag": "ABX9TyMaROrPchtjR2BCDwRoiE64",
      "include_colab_link": true
    },
    "kernelspec": {
      "name": "python3",
      "display_name": "Python 3"
    },
    "language_info": {
      "name": "python"
    }
  },
  "cells": [
    {
      "cell_type": "markdown",
      "metadata": {
        "id": "view-in-github",
        "colab_type": "text"
      },
      "source": [
        "<a href=\"https://colab.research.google.com/github/jeongeunseoo/23python3rd/blob/main/CT_2nd_code.ipynb\" target=\"_parent\"><img src=\"https://colab.research.google.com/assets/colab-badge.svg\" alt=\"Open In Colab\"/></a>"
      ]
    },
    {
      "cell_type": "markdown",
      "source": [
        "2. 사용자로부터 3개의 변수를 입력받아서 합을 구하고, 평균을 구하는 코드\n",
        " - 변수는 : n1, n2, n3, total, average"
      ],
      "metadata": {
        "id": "JfTPS7HulXs1"
      }
    },
    {
      "cell_type": "code",
      "source": [
        "n1 = int(input(\"n1의 값을 입력하시오.: \"))      # 사용자로부터 n1의 값을 입력받습니다.\n",
        "n2 = int(input(\"n2의 값을 입력하시오.: \"))      # 사용자로부터 n2의 값을 입력받습니다.\n",
        "n3 = int(input(\"n3의 값을 입력하시오.: \"))      # 사용자로부터 n3의 값을 입력받습니다.\n",
        "total = n1 + n2 + n3                            # 입력받은 세 개의 정수를 더하여 합계를 계산합니다.\n",
        "print('합계는 :', total)                        # 합계를 출력합니다.\n",
        "average = total / 3                             # 합계를 세 개로 나누어 평균을 계산합니다.\n",
        "print('평균은 :', average)                      # 평균을 출력합니다."
      ],
      "metadata": {
        "colab": {
          "base_uri": "https://localhost:8080/"
        },
        "id": "fVYJsoFBmcLW",
        "outputId": "81e311b2-6780-4d24-c509-6e51da141795"
      },
      "execution_count": null,
      "outputs": [
        {
          "output_type": "stream",
          "name": "stdout",
          "text": [
            "n1의 값을 입력하시오.:  1\n",
            "n2의 값을 입력하시오.: 2\n",
            "n3의 값을 입력하시오.: 3\n",
            "합계는 : 6\n",
            "평균은 : 2.0\n"
          ]
        }
      ]
    },
    {
      "cell_type": "markdown",
      "source": [
        "사용자로부터 세 개의 정수를 입력받아 합계와 평균을 계산하여 출력하는 코드입니다.\n",
        "\n",
        "먼저, int(input(\"n1의 값을 입력하시오.: \"))를 통해 사용자로부터 n1의 값을 입력받습니다. 사용자가 입력한 값을 정수형으로 변환하여 n1 변수에 저장합니다.\n",
        "\n",
        "다음으로, int(input(\"n2의 값을 입력하시오.: \"))를 통해 사용자로부터 n2의 값을 입력받습니다. 사용자가 입력한 값을 정수형으로 변환하여 n2 변수에 저장합니다.\n",
        "\n",
        "마지막으로, int(input(\"n3의 값을 입력하시오.: \"))를 통해 사용자로부터 n3의 값을 입력받습니다. 사용자가 입력한 값을 정수형으로 변환하여 n3 변수에 저장합니다.\n",
        "\n",
        "이후, total = n1 + n2 + n3를 통해 입력받은 세 개의 정수를 더하여 합계를 계산합니다. 계산 결과를 total 변수에 저장합니다.\n",
        "\n",
        "다음으로, print('합계는 :', total)를 통해 합계를 출력합니다. \"합계는 :\" 다음에 total 변수에 저장된 값이 출력됩니다.\n",
        "\n",
        "마지막으로, average = total / 3를 통해 합계를 세 개로 나누어 평균을 계산합니다. 계산 결과를 average 변수에 저장합니다.\n",
        "\n",
        "print('평균은 :', average)를 통해 평균을 출력합니다. \"평균은 :\" 다음에 average 변수에 저장된 값이 출력됩니다.\n",
        "\n",
        "이렇게 작성된 코드는 사용자로부터 세 개의 정수를 입력받아 합계와 평균을 계산하여 출력하는 기능을 수행합니다."
      ],
      "metadata": {
        "id": "JnkTdZve7vZz"
      }
    }
  ]
}