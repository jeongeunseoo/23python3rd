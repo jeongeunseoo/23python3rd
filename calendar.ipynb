{
  "nbformat": 4,
  "nbformat_minor": 0,
  "metadata": {
    "colab": {
      "provenance": [],
      "toc_visible": true,
      "authorship_tag": "ABX9TyMoNfjTv4l60xyIbmSgBwSo",
      "include_colab_link": true
    },
    "kernelspec": {
      "name": "python3",
      "display_name": "Python 3"
    },
    "language_info": {
      "name": "python"
    }
  },
  "cells": [
    {
      "cell_type": "markdown",
      "metadata": {
        "id": "view-in-github",
        "colab_type": "text"
      },
      "source": [
        "<a href=\"https://colab.research.google.com/github/jeongeunseoo/23python3rd/blob/main/calendar.ipynb\" target=\"_parent\"><img src=\"https://colab.research.google.com/assets/colab-badge.svg\" alt=\"Open In Colab\"/></a>"
      ]
    },
    {
      "cell_type": "code",
      "execution_count": 3,
      "metadata": {
        "colab": {
          "base_uri": "https://localhost:8080/"
        },
        "id": "us4dBIknY2P1",
        "outputId": "81d78855-0e96-4d94-b9f0-5a82367265ca"
      },
      "outputs": [
        {
          "output_type": "stream",
          "name": "stdout",
          "text": [
            "    October 2023\n",
            "Mo Tu We Th Fr Sa Su\n",
            "                   1\n",
            " 2  3  4  5  6  7  8\n",
            " 9 10 11 12 13 14 15\n",
            "16 17 18 19 20 21 22\n",
            "23 24 25 26 27 28 29\n",
            "30 31\n",
            "\n"
          ]
        }
      ],
      "source": [
        "import calendar\n",
        "yy = 2023       # Year\n",
        "mm = 10         # month\n",
        "# display the calendar\n",
        "print(calendar.month(yy, mm))\n"
      ]
    },
    {
      "cell_type": "code",
      "source": [
        "print(\"2023년 10월 19일 To Do List\")\n",
        "print(\"09 : 10 ~ 11: 00 컴퓨팅적 사고와 기초코딩\")\n",
        "print(\"11 : 10 ~ 12 : 00 아동 건강 교육\")\n",
        "print(\"12 : 00 ~ 12 : 30 점심식사\")\n",
        "print(\"12 : 30 ~ 14 : 00 시험공부\")\n",
        "print(\"14 : 00 ~ 15 : 00 낮잠\")\n",
        "print(\"15 : 00 ~ 17 : 30 시험공부\")\n",
        "print(\"17 : 30 ~ 18 : 30 저녁식사 및 여가시간\")\n",
        "print(\"18 : 30 ~ 19 : 30 시험공부\")\n",
        "print(\"19 : 30 ~ 20 ; 30 목욕\")\n",
        "print(\"20 : 30 ~ 22 : 00 시험공부\")"
      ],
      "metadata": {
        "colab": {
          "base_uri": "https://localhost:8080/"
        },
        "id": "66DsRRe_gG9-",
        "outputId": "50c8116c-9c5e-41c8-c3b8-38a80591e2e7"
      },
      "execution_count": 5,
      "outputs": [
        {
          "output_type": "stream",
          "name": "stdout",
          "text": [
            "2023년 10월 19일 To Do List\n",
            "09 : 10 ~ 11: 00 컴퓨팅적 사고와 기초코딩\n",
            "11 : 10 ~ 12 : 00 아동 건강 교육\n",
            "12 : 00 ~ 12 : 30 점심식사\n",
            "12 : 30 ~ 14 : 00 시험공부\n",
            "14 : 00 ~ 15 : 00 낮잠\n",
            "15 : 00 ~ 17 : 30 시험공부\n",
            "17 : 30 ~ 18 : 30 저녁식사 및 여가시간\n",
            "18 : 30 ~ 19 : 30 시험공부\n",
            "19 : 30 ~ 20 ; 30 목욕\n",
            "20 : 30 ~ 22 : 00 시험공부\n"
          ]
        }
      ]
    },
    {
      "cell_type": "code",
      "source": [],
      "metadata": {
        "id": "CuTJmHDRgG_A"
      },
      "execution_count": null,
      "outputs": []
    }
  ]
}