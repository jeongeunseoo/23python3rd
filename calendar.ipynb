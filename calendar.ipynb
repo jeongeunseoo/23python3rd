{
  "nbformat": 4,
  "nbformat_minor": 0,
  "metadata": {
    "colab": {
      "provenance": [],
      "authorship_tag": "ABX9TyNMWKOfa6eAhSwWCARn26Jv",
      "include_colab_link": true
    },
    "kernelspec": {
      "name": "python3",
      "display_name": "Python 3"
    },
    "language_info": {
      "name": "python"
    }
  },
  "cells": [
    {
      "cell_type": "markdown",
      "metadata": {
        "id": "view-in-github",
        "colab_type": "text"
      },
      "source": [
        "<a href=\"https://colab.research.google.com/github/jeongeunseoo/23python3rd/blob/main/calendar.ipynb\" target=\"_parent\"><img src=\"https://colab.research.google.com/assets/colab-badge.svg\" alt=\"Open In Colab\"/></a>"
      ]
    },
    {
      "cell_type": "code",
      "execution_count": null,
      "metadata": {
        "colab": {
          "base_uri": "https://localhost:8080/"
        },
        "id": "us4dBIknY2P1",
        "outputId": "81d78855-0e96-4d94-b9f0-5a82367265ca"
      },
      "outputs": [
        {
          "output_type": "stream",
          "name": "stdout",
          "text": [
            "    October 2023\n",
            "Mo Tu We Th Fr Sa Su\n",
            "                   1\n",
            " 2  3  4  5  6  7  8\n",
            " 9 10 11 12 13 14 15\n",
            "16 17 18 19 20 21 22\n",
            "23 24 25 26 27 28 29\n",
            "30 31\n",
            "\n"
          ]
        }
      ],
      "source": [
        "import calendar\n",
        "yy = 2023       # Year\n",
        "mm = 10         # month\n",
        "# display the calendar\n",
        "print(calendar.month(yy, mm))"
      ]
    },
    {
      "cell_type": "markdown",
      "source": [
        "calendar 모듈을 사용하여 특정 연도와 월에 해당하는 달력을 출력하는 코드입니다.\n",
        "\n",
        "먼저, import calendar을 통해 calendar 모듈을 가져옵니다.\n",
        "\n",
        "다음으로, yy = 2023을 통해 변수 yy에 출력할 연도를 지정합니다. 예시로 2023년을 선택했습니다.\n",
        "\n",
        "mm = 10을 통해 변수 mm에 출력할 월을 지정합니다. 예시로 10월을 선택했습니다.\n",
        "\n",
        "마지막으로, print(calendar.month(yy, mm))를 사용하여 yy와 mm에 해당하는 달력을 출력합니다. calendar.month() 함수는 지정된 연도와 월에 해당하는 달력을 문자열 형태로 반환합니다. print() 함수를 사용하여 해당 문자열을 출력합니다.\n",
        "\n",
        "이렇게 작성된 코드는 지정된 연도와 월에 해당하는 달력을 출력하는 기능을 수행합니다. 출력 결과는 해당 월의 달력이 화면에 출력됩니다."
      ],
      "metadata": {
        "id": "ubqThkvE76Ig"
      }
    },
    {
      "cell_type": "code",
      "source": [
        "print(\"2023년 10월 19일 To Do List\")\n",
        "print(\"09 : 10 ~ 11: 00 컴퓨팅적 사고와 기초코딩\")\n",
        "print(\"11 : 10 ~ 12 : 00 아동 건강 교육\")\n",
        "print(\"12 : 00 ~ 12 : 30 점심식사\")\n",
        "print(\"12 : 30 ~ 14 : 00 시험공부\")\n",
        "print(\"14 : 00 ~ 15 : 00 낮잠\")\n",
        "print(\"15 : 00 ~ 17 : 30 시험공부\")\n",
        "print(\"17 : 30 ~ 18 : 30 저녁식사 및 여가시간\")\n",
        "print(\"18 : 30 ~ 19 : 30 시험공부\")\n",
        "print(\"19 : 30 ~ 20 ; 30 목욕\")\n",
        "print(\"20 : 30 ~ 22 : 00 시험공부\")"
      ],
      "metadata": {
        "colab": {
          "base_uri": "https://localhost:8080/"
        },
        "id": "66DsRRe_gG9-",
        "outputId": "50c8116c-9c5e-41c8-c3b8-38a80591e2e7"
      },
      "execution_count": null,
      "outputs": [
        {
          "output_type": "stream",
          "name": "stdout",
          "text": [
            "2023년 10월 19일 To Do List\n",
            "09 : 10 ~ 11: 00 컴퓨팅적 사고와 기초코딩\n",
            "11 : 10 ~ 12 : 00 아동 건강 교육\n",
            "12 : 00 ~ 12 : 30 점심식사\n",
            "12 : 30 ~ 14 : 00 시험공부\n",
            "14 : 00 ~ 15 : 00 낮잠\n",
            "15 : 00 ~ 17 : 30 시험공부\n",
            "17 : 30 ~ 18 : 30 저녁식사 및 여가시간\n",
            "18 : 30 ~ 19 : 30 시험공부\n",
            "19 : 30 ~ 20 ; 30 목욕\n",
            "20 : 30 ~ 22 : 00 시험공부\n"
          ]
        }
      ]
    },
    {
      "cell_type": "markdown",
      "source": [
        "2023년 10월 19일의 일정을 출력하는 코드입니다.\n",
        "\n",
        "먼저, print(\"2023년 10월 19일 To Do List\")를 사용하여 해당 날짜의 일정을 출력합니다.\n",
        "\n",
        "이후, print() 함수를 사용하여 각 일정을 한 줄씩 출력합니다. 예시로는 컴퓨팅적 사고와 기초코딩, 아동 건강 교육, 점심식사, 시험공부, 낮잠, 저녁식사 및 여가시간, 목욕, 시험공부 등의 일정이 포함되어 있습니다. 각 일정은 시작 시간과 종료 시간을 표기하여 출력되었습니다.\n",
        "\n",
        "이렇게 작성된 코드는 특정 날짜의 일정을 출력하는 기능을 수행합니다. 출력 결과는 해당 날짜의 일정이 화면에 출력됩니다."
      ],
      "metadata": {
        "id": "dsVvn3L08Bml"
      }
    }
  ]
}