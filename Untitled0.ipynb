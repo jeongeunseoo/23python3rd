{
  "nbformat": 4,
  "nbformat_minor": 0,
  "metadata": {
    "colab": {
      "provenance": [],
      "authorship_tag": "ABX9TyP0+E7uJs1euZxr/H7utLb4",
      "include_colab_link": true
    },
    "kernelspec": {
      "name": "python3",
      "display_name": "Python 3"
    },
    "language_info": {
      "name": "python"
    }
  },
  "cells": [
    {
      "cell_type": "markdown",
      "metadata": {
        "id": "view-in-github",
        "colab_type": "text"
      },
      "source": [
        "<a href=\"https://colab.research.google.com/github/jeongeunseoo/23python3rd/blob/main/Untitled0.ipynb\" target=\"_parent\"><img src=\"https://colab.research.google.com/assets/colab-badge.svg\" alt=\"Open In Colab\"/></a>"
      ]
    },
    {
      "cell_type": "markdown",
      "source": [
        "1. 사용자로부터 2개의 정수를 받아서 합계를 출력\n",
        "- 합계(sum)"
      ],
      "metadata": {
        "id": "Zew8uCm11ovz"
      }
    },
    {
      "cell_type": "code",
      "source": [
        "x = int(input(\"정수 x를 입력하시오.: \"))\n",
        "y = int(input(\"정수 y를 입력하시오.: \"))\n",
        "sum = x + y\n",
        "print(f'합계는 {sum}이며, 정수 x는 {x}이고, 정수 y는 {y}입니다.')"
      ],
      "metadata": {
        "colab": {
          "base_uri": "https://localhost:8080/"
        },
        "id": "eX2mMWvE1zKS",
        "outputId": "5f86cdc7-df22-46a4-e0d2-0201869f26b0"
      },
      "execution_count": null,
      "outputs": [
        {
          "output_type": "stream",
          "name": "stdout",
          "text": [
            "정수 x를 입력하시오.: 10\n",
            "정수 y를 입력하시오.: 20\n",
            "합계는 30이며, 정수 x는 10이고, 정수 y는 20입니다.\n"
          ]
        }
      ]
    },
    {
      "cell_type": "markdown",
      "source": [
        "2. 부가세를 계산하는 코드\n",
        "- 가격(price)"
      ],
      "metadata": {
        "id": "E9LWXMcb2zWR"
      }
    },
    {
      "cell_type": "code",
      "source": [
        "price = int(input(\"상품의 가격을 입력하시오.: \"))\n",
        "vat = price * 0.1\n",
        "print(vat)\n"
      ],
      "metadata": {
        "colab": {
          "base_uri": "https://localhost:8080/"
        },
        "id": "H7KGQtxH28Ab",
        "outputId": "dc5d0c01-17f1-4b68-ca36-77b20ef4e6e3"
      },
      "execution_count": null,
      "outputs": [
        {
          "output_type": "stream",
          "name": "stdout",
          "text": [
            "상품의 가격을 입력하시오.: 460\n",
            "46.0\n"
          ]
        }
      ]
    }
  ]
}