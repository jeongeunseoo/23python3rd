{
  "nbformat": 4,
  "nbformat_minor": 0,
  "metadata": {
    "colab": {
      "provenance": [],
      "authorship_tag": "ABX9TyNkj26IH3EdfDGe/2fV3XlL",
      "include_colab_link": true
    },
    "kernelspec": {
      "name": "python3",
      "display_name": "Python 3"
    },
    "language_info": {
      "name": "python"
    }
  },
  "cells": [
    {
      "cell_type": "markdown",
      "metadata": {
        "id": "view-in-github",
        "colab_type": "text"
      },
      "source": [
        "<a href=\"https://colab.research.google.com/github/jeongeunseoo/23python3rd/blob/main/Untitled0.ipynb\" target=\"_parent\"><img src=\"https://colab.research.google.com/assets/colab-badge.svg\" alt=\"Open In Colab\"/></a>"
      ]
    },
    {
      "cell_type": "markdown",
      "source": [
        "1. 사용자로부터 2개의 정수를 받아서 합계를 출력\n",
        "- 합계(sum)"
      ],
      "metadata": {
        "id": "Zew8uCm11ovz"
      }
    },
    {
      "cell_type": "code",
      "source": [
        "x = int(input(\"정수 x를 입력하시오.: \"))        # 사용자로부터 정수 x를 입력받습니다.\n",
        "y = int(input(\"정수 y를 입력하시오.: \"))        # 사용자로부터 정수 y를 입력받습니다.\n",
        "sum = x + y                                     # 입력받은 정수 x와 y를 더하여 합계를 계산합니다.\n",
        "print(f'합계는 {sum}이며, 정수 x는 {x}이고, 정수 y는 {y}입니다.')     # 합계와 입력받은 정수 x, y를 출력합니다."
      ],
      "metadata": {
        "colab": {
          "base_uri": "https://localhost:8080/"
        },
        "id": "eX2mMWvE1zKS",
        "outputId": "5f86cdc7-df22-46a4-e0d2-0201869f26b0"
      },
      "execution_count": null,
      "outputs": [
        {
          "output_type": "stream",
          "name": "stdout",
          "text": [
            "정수 x를 입력하시오.: 10\n",
            "정수 y를 입력하시오.: 20\n",
            "합계는 30이며, 정수 x는 10이고, 정수 y는 20입니다.\n"
          ]
        }
      ]
    },
    {
      "cell_type": "markdown",
      "source": [
        "사용자로부터 입력받은 두 정수를 더하여 합계와 입력받은 정수를 출력하는 코드입니다.\n",
        "\n",
        "먼저, int(input(\"정수 x를 입력하시오.: \"))를 통해 사용자로부터 x의 값을 입력받습니다. 입력 받은 값을 정수형으로 변환하여 x 변수에 저장합니다.\n",
        "\n",
        "다음으로, int(input(\"정수 y를 입력하시오.: \"))를 통해 사용자로부터 y의 값을 입력받습니다. 입력 받은 값을 정수형으로 변환하여 y 변수에 저장합니다.\n",
        "\n",
        "이후, sum = x + y를 통해 입력받은 x와 y의 값을 더하여 합계를 계산합니다. 계산 결과를 sum 변수에 저장합니다.\n",
        "\n",
        "마지막으로, print(f'합계는 {sum}이며, 정수 x는 {x}이고, 정수 y는 {y}입니다.')를 사용하여 합계와 입력받은 정수 x, y를 출력합니다. f-string을 사용하여 출력 형식을 지정하였습니다. 출력 결과로는 합계와 입력받은 정수 x, y의 값이 포함된 문장이 출력됩니다.\n",
        "\n",
        "이렇게 작성된 코드는 사용자로부터 입력받은 두 정수를 더한 합계와 입력받은 정수 x, y의 값을 출력하는 기능을 수행합니다."
      ],
      "metadata": {
        "id": "A24edO1Q8lch"
      }
    },
    {
      "cell_type": "markdown",
      "source": [
        "2. 부가세를 계산하는 코드\n",
        "- 가격(price)"
      ],
      "metadata": {
        "id": "E9LWXMcb2zWR"
      }
    },
    {
      "cell_type": "code",
      "source": [
        "price = int(input(\"상품의 가격을 입력하시오.: \"))     # 사용자로부터 상품의 가격을 입력받습니다.\n",
        "vat = price * 0.1                                     # 상품의 가격에 0.1을 곱하여 부가가치세(VAT)를 계산합니다.\n",
        "print(vat)                                            # 부가가치세(VAT)를 출력합니다."
      ],
      "metadata": {
        "colab": {
          "base_uri": "https://localhost:8080/"
        },
        "id": "H7KGQtxH28Ab",
        "outputId": "dc5d0c01-17f1-4b68-ca36-77b20ef4e6e3"
      },
      "execution_count": null,
      "outputs": [
        {
          "output_type": "stream",
          "name": "stdout",
          "text": [
            "상품의 가격을 입력하시오.: 460\n",
            "46.0\n"
          ]
        }
      ]
    },
    {
      "cell_type": "markdown",
      "source": [
        "사용자로부터 입력받은 상품의 가격을 바탕으로 부가가치세(VAT)를 계산하고 출력하는 코드입니다.\n",
        "\n",
        "먼저, int(input(\"상품의 가격을 입력하시오.: \"))를 통해 사용자로부터 상품의 가격을 입력받습니다. 입력 받은 값을 정수형으로 변환하여 price 변수에 저장합니다.\n",
        "\n",
        "다음으로, vat = price * 0.1을 사용하여 입력받은 price 변수에 0.1을 곱하여 부가가치세(VAT)를 계산합니다. 계산 결과를 vat 변수에 저장합니다.\n",
        "\n",
        "마지막으로, print(vat)를 사용하여 부가가치세(VAT)를 출력합니다.\n",
        "\n",
        "이렇게 작성된 코드는 사용자로부터 입력받은 상품의 가격을 바탕으로 부가가치세(VAT)를 계산하고 출력하는 기능을 수행합니다. 출력 결과로는 부가가치세(VAT)가 출력됩니다"
      ],
      "metadata": {
        "id": "427hsdtJ8sFN"
      }
    }
  ]
}