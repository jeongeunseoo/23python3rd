{
  "nbformat": 4,
  "nbformat_minor": 0,
  "metadata": {
    "colab": {
      "provenance": [],
      "authorship_tag": "ABX9TyN6DUbevrVZFSa38vLXO4r2",
      "include_colab_link": true
    },
    "kernelspec": {
      "name": "python3",
      "display_name": "Python 3"
    },
    "language_info": {
      "name": "python"
    }
  },
  "cells": [
    {
      "cell_type": "markdown",
      "metadata": {
        "id": "view-in-github",
        "colab_type": "text"
      },
      "source": [
        "<a href=\"https://colab.research.google.com/github/jeongeunseoo/23python3rd/blob/main/jes_stu_py.ipynb\" target=\"_parent\"><img src=\"https://colab.research.google.com/assets/colab-badge.svg\" alt=\"Open In Colab\"/></a>"
      ]
    },
    {
      "cell_type": "code",
      "execution_count": null,
      "metadata": {
        "id": "WJBlS9Zp_tKa"
      },
      "outputs": [],
      "source": [
        "# 10명의 성적을 입력 받아 평균을 내는 프로그램을 만든다.\n",
        "# 반복문과 조건문을 사용한다.\n",
        "# 변수는 total, counter, grade, average\n",
        "total = 0           # 변수 total은 0으로 선언하였다.\n",
        "counter = 1             # 변수 counter는 1로 선언하였다.\n",
        "while counter <= 10 :       # 반복문 while을 사용하여 counter가 10보다 작거나 같을 때 다음 내부 문장으로 넘어간다.\n",
        "    grade = int(input(\"성적을 입력하시오.: \"))    # 변수 grade에 int(정수형 변환)와 사용로부터 입력을 받는 input을 사용하여 정수를 받는다.\n",
        "    total = grade + total           # 변수 total에 성적 grade와 변수 total을 합한 값을 선언한다.\n",
        "    counter = counter + 1           # 변수 counter는 초기 선언한 counter의 값에 실행할 때마다 1씩 추가된다.\n",
        "average = total/10              # 변수 average에 반복문에서 계산한 total 값을 10으로 나눈다.\n",
        "print(average)\n",
        "# write by 정은서"
      ]
    },
    {
      "cell_type": "markdown",
      "source": [
        " 10명의 성적을 입력받아 평균을 계산하여 출력하는 프로그램입니다.\n",
        "\n",
        "먼저, total 변수를 0으로 초기화하고, counter 변수를 1로 초기화합니다.\n",
        "\n",
        "while 반복문을 사용하여 counter가 10보다 작거나 같을 때까지 반복합니다.\n",
        "\n",
        "반복문 내부에서는 사용자로부터 성적을 입력받아 grade 변수에 저장합니다.\n",
        "\n",
        "그리고 total 변수에 입력받은 성적을 더하여 누적합니다.\n",
        "\n",
        "counter 변수에 1을 더하여 반복문을 계속 실행할 수 있도록 합니다.\n",
        "\n",
        "반복문이 종료되면 total 변수를 10으로 나눈 값을 average 변수에 저장합니다.\n",
        "\n",
        "마지막으로, average 변수를 출력하여 평균 성적을 표시합니다.\n",
        "\n",
        "이렇게 작성된 코드는 10명의 성적을 입력받아 평균을 계산하여 출력하는 기능을 수행합니다. 출력 결과로는 평균 성적이 출력됩니다."
      ],
      "metadata": {
        "id": "vIlDUBSs_2lR"
      }
    }
  ]
}